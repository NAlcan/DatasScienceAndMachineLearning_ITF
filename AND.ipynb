{
  "nbformat": 4,
  "nbformat_minor": 0,
  "metadata": {
    "colab": {
      "provenance": [],
      "include_colab_link": true
    },
    "kernelspec": {
      "name": "python3",
      "display_name": "Python 3"
    },
    "language_info": {
      "name": "python"
    }
  },
  "cells": [
    {
      "cell_type": "markdown",
      "metadata": {
        "id": "view-in-github",
        "colab_type": "text"
      },
      "source": [
        "<a href=\"https://colab.research.google.com/github/NAlcan/DatasScienceAndMachineLearning_ITF/blob/main/AND.ipynb\" target=\"_parent\"><img src=\"https://colab.research.google.com/assets/colab-badge.svg\" alt=\"Open In Colab\"/></a>"
      ]
    },
    {
      "cell_type": "code",
      "execution_count": null,
      "metadata": {
        "id": "E5q1WWeUELPF"
      },
      "outputs": [],
      "source": [
        "import torch\n",
        "import torch.nn as nn\n",
        "import torch.optim\n",
        "import numpy as np"
      ]
    },
    {
      "cell_type": "code",
      "source": [
        "input = torch.tensor([[0,0],\n",
        "                      [0,1],\n",
        "                      [1,0],\n",
        "                      [1,1]],dtype=torch.float32)\n",
        "\n",
        "output = torch.tensor([[0],\n",
        "                       [0],\n",
        "                       [0],\n",
        "                       [1]],dtype=torch.float32)"
      ],
      "metadata": {
        "id": "MAI5XwT6EaQE"
      },
      "execution_count": null,
      "outputs": []
    },
    {
      "cell_type": "code",
      "source": [
        "model = nn.Sequential(\n",
        "    nn.Linear(2,1)\n",
        ")"
      ],
      "metadata": {
        "id": "yC8nK0yqE-v9"
      },
      "execution_count": null,
      "outputs": []
    },
    {
      "cell_type": "code",
      "source": [
        "loss_fn = nn.MSELoss()"
      ],
      "metadata": {
        "id": "yI0JoaCsGI1f"
      },
      "execution_count": null,
      "outputs": []
    },
    {
      "cell_type": "code",
      "source": [
        "optimizer = torch.optim.SGD(model.parameters(), lr=1e-2)"
      ],
      "metadata": {
        "id": "mTQg03efGoZs"
      },
      "execution_count": null,
      "outputs": []
    },
    {
      "cell_type": "code",
      "source": [
        "num_epochs = 5000\n",
        "for epoch in range(num_epochs+1):\n",
        "  y_pred = model(input)\n",
        "  loss = loss_fn(y_pred, output)\n",
        "  loss.backward()\n",
        "  optimizer.step()\n",
        "  optimizer.zero_grad()\n",
        "  if epoch % int(num_epochs * .05) == 0:\n",
        "    print(f'[EPOCH {epoch}] The loss is {loss.item():.5f}')"
      ],
      "metadata": {
        "colab": {
          "base_uri": "https://localhost:8080/"
        },
        "id": "gUTqmMMeG1Dn",
        "outputId": "b8202739-c9c8-4ac9-c7db-f584efcc1281"
      },
      "execution_count": null,
      "outputs": [
        {
          "output_type": "stream",
          "name": "stdout",
          "text": [
            "[EPOCH 0] The loss is 0.15281\n",
            "[EPOCH 250] The loss is 0.06516\n",
            "[EPOCH 500] The loss is 0.06300\n",
            "[EPOCH 750] The loss is 0.06260\n",
            "[EPOCH 1000] The loss is 0.06252\n",
            "[EPOCH 1250] The loss is 0.06250\n",
            "[EPOCH 1500] The loss is 0.06250\n",
            "[EPOCH 1750] The loss is 0.06250\n",
            "[EPOCH 2000] The loss is 0.06250\n",
            "[EPOCH 2250] The loss is 0.06250\n",
            "[EPOCH 2500] The loss is 0.06250\n",
            "[EPOCH 2750] The loss is 0.06250\n",
            "[EPOCH 3000] The loss is 0.06250\n",
            "[EPOCH 3250] The loss is 0.06250\n",
            "[EPOCH 3500] The loss is 0.06250\n",
            "[EPOCH 3750] The loss is 0.06250\n",
            "[EPOCH 4000] The loss is 0.06250\n",
            "[EPOCH 4250] The loss is 0.06250\n",
            "[EPOCH 4500] The loss is 0.06250\n",
            "[EPOCH 4750] The loss is 0.06250\n",
            "[EPOCH 5000] The loss is 0.06250\n"
          ]
        }
      ]
    },
    {
      "cell_type": "code",
      "source": [
        "model(input).round()"
      ],
      "metadata": {
        "colab": {
          "base_uri": "https://localhost:8080/"
        },
        "id": "DmlXIdfhH0N4",
        "outputId": "3a8a94f7-1393-476a-ca30-ad9ca6f5a92c"
      },
      "execution_count": null,
      "outputs": [
        {
          "output_type": "execute_result",
          "data": {
            "text/plain": [
              "tensor([[-0.],\n",
              "        [0.],\n",
              "        [0.],\n",
              "        [1.]], grad_fn=<RoundBackward0>)"
            ]
          },
          "metadata": {},
          "execution_count": 8
        }
      ]
    }
  ]
}